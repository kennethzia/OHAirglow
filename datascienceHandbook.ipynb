{
 "cells": [
  {
   "cell_type": "markdown",
   "id": "cc8c18ca-005f-44ed-a728-096d1c5289c0",
   "metadata": {
    "tags": []
   },
   "source": [
    "#Python Data Analysis "
   ]
  },
  {
   "cell_type": "markdown",
   "id": "34213708-3312-472d-9e8f-1dbcc52e650c",
   "metadata": {
    "tags": []
   },
   "source": [
    "## Introduction"
   ]
  },
  {
   "cell_type": "markdown",
   "id": "cbcaf409-1d93-4e9d-9a72-025aeb8a2b39",
   "metadata": {
    "tags": []
   },
   "source": [
    "Data is ubiquitous in physics, either produced through experimentation or modeling outputs. Both require skills in analyzing, interperetting, and presenting their data in a coherent manner. Computer Science (CS) courses are not very clear on how to apply their foundational programming skills to this task. These excercises are designed to bridge the theory of computer science to the application of real-world data by using Python effectively for scientific and data-intensive computing."
   ]
  },
  {
   "cell_type": "markdown",
   "id": "81a7a1f6-ef9b-4096-98f8-b700dc3d3dd7",
   "metadata": {
    "tags": []
   },
   "source": [
    "Here I will emphasise the use of Ipython (Interactive Python) with a text editor of your choice, or Jupyter. Both utilize Ipython notebooks which this text is written in. The textbook \"Python Data Science Handbook\", Jake VanderPlas, is encouraged as a reference guide for further tips and tricks of Python coding."
   ]
  },
  {
   "cell_type": "markdown",
   "id": "cad93301-5f95-4725-baf5-bc73f01c2dbf",
   "metadata": {},
   "source": [
    "Below is an array"
   ]
  },
  {
   "cell_type": "code",
   "execution_count": 1,
   "id": "88976323",
   "metadata": {
    "scrolled": true,
    "tags": []
   },
   "outputs": [
    {
     "data": {
      "text/plain": [
       "array([0, 1, 2, 3, 4, 5, 6, 7])"
      ]
     },
     "execution_count": 1,
     "metadata": {},
     "output_type": "execute_result"
    }
   ],
   "source": [
    "import numpy as np\n",
    "x=np.arange(8)\n",
    "x"
   ]
  },
  {
   "cell_type": "markdown",
   "id": "854f64df-8af9-4148-a5bf-2fb4661fc54f",
   "metadata": {},
   "source": []
  },
  {
   "cell_type": "code",
   "execution_count": null,
   "id": "7c9f0f5a",
   "metadata": {},
   "outputs": [],
   "source": []
  },
  {
   "cell_type": "raw",
   "id": "b41159d3",
   "metadata": {},
   "source": []
  },
  {
   "cell_type": "raw",
   "id": "c7596fd5",
   "metadata": {},
   "source": []
  }
 ],
 "metadata": {
  "celltoolbar": "Tags",
  "kernelspec": {
   "display_name": "Python 3",
   "language": "python",
   "name": "python3"
  },
  "language_info": {
   "codemirror_mode": {
    "name": "ipython",
    "version": 3
   },
   "file_extension": ".py",
   "mimetype": "text/x-python",
   "name": "python",
   "nbconvert_exporter": "python",
   "pygments_lexer": "ipython3",
   "version": "3.8.8"
  },
  "toc-autonumbering": false,
  "toc-showcode": false,
  "toc-showmarkdowntxt": false,
  "widgets": {
   "application/vnd.jupyter.widget-state+json": {
    "state": {},
    "version_major": 2,
    "version_minor": 0
   }
  }
 },
 "nbformat": 4,
 "nbformat_minor": 5
}
